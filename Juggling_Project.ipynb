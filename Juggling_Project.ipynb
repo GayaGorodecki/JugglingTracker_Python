{
 "cells": [
  {
   "cell_type": "code",
   "execution_count": null,
   "metadata": {},
   "outputs": [],
   "source": [
    "%matplotlib inline\n",
    "\n",
    "import matplotlib.pyplot as plt\n",
    "import numpy as np\n",
    "import cv2\n",
    "\n",
    "plt.rc('image', cmap='gray') # set the default color-map of plt.image() to 'gray'\n",
    "plt.rc('figure', figsize=[8,8]) # set a bigger default figure size"
   ]
  },
  {
   "cell_type": "markdown",
   "metadata": {},
   "source": [
    "## playing the video as is"
   ]
  },
  {
   "cell_type": "code",
   "execution_count": null,
   "metadata": {},
   "outputs": [],
   "source": [
    "# cap = cv2.VideoCapture('P4_juggling.mov')\n",
    "\n",
    "# while True:\n",
    "#     ret, frame = cap.read() # read next frame\n",
    "#     if ret==True:\n",
    "#         frame = cv2.resize(frame, (640, 360)) \n",
    "#         cv2.imshow('WINDOW_NAME', frame)\n",
    "        \n",
    "#         if (cv2.waitKey(1) & 0xff == 27): # ESC key pressed?\n",
    "#             break\n",
    "#     else:\n",
    "#         break\n",
    "\n",
    "# cap.release() # release input video\n",
    "# cv2.destroyAllWindows() # delete output window\n",
    "# cv2.waitKey(1);"
   ]
  },
  {
   "cell_type": "markdown",
   "metadata": {},
   "source": [
    "# Contours \n",
    "## Red "
   ]
  },
  {
   "cell_type": "code",
   "execution_count": null,
   "metadata": {},
   "outputs": [],
   "source": [
    "def buildRedMask(frame):\n",
    "    lowerRed = np.array([0,27,217])\n",
    "    upperRed = np.array([14,206,255])\n",
    "    \n",
    "    frame = cv2.resize(frame, (640, 360)) \n",
    "    blur = cv2.GaussianBlur(frame ,(0,0),5)\n",
    "    hsvRed = cv2.cvtColor(blur, cv2.COLOR_BGR2HSV)\n",
    "    maskRed = cv2.inRange(hsvRed, lowerRed, upperRed)\n",
    "    return maskRed"
   ]
  },
  {
   "cell_type": "code",
   "execution_count": null,
   "metadata": {
    "scrolled": true
   },
   "outputs": [],
   "source": [
    "cap = cv2.VideoCapture('P4_juggling.mov')\n",
    "# Take first frame and find corners in it\n",
    "ret, frame = cap.read()\n",
    "\n",
    "maskRed = buildRedMask(frame)\n",
    "\n",
    "blank = np.zeros(frame.shape,dtype='uint8')\n",
    "contours, _ = cv2.findContours(maskRed, cv2.RETR_EXTERNAL, cv2.CHAIN_APPROX_SIMPLE)  \n",
    "cv2.drawContours(blank,contours,-1,(255,0,0),1)\n",
    "\n",
    "plt.figure(figsize=(16,6))\n",
    "plt.subplot(1,2,1)\n",
    "plt.imshow(blank)\n",
    "plt.title('Red contours')\n",
    "\n",
    "plt.subplot(1,2,2)\n",
    "plt.imshow(maskRed)\n",
    "plt.title('Red ball hsv mask')\n",
    "\n",
    "plt.show()"
   ]
  },
  {
   "cell_type": "markdown",
   "metadata": {},
   "source": [
    "### Red ball overlay"
   ]
  },
  {
   "cell_type": "code",
   "execution_count": null,
   "metadata": {},
   "outputs": [],
   "source": [
    "redBall = contours[0]\n",
    "(x,y),radiusRed = cv2.minEnclosingCircle(redBall)\n",
    "center = (int(x)-4,int(y))\n",
    "radiusRed = int(radiusRed+3)\n",
    "cv2.circle(frame,center,radiusRed,(255,255,255),2, lineType=cv2.LINE_AA)\n",
    "\n",
    "frame = cv2.cvtColor(frame, cv2.COLOR_BGR2RGB)\n",
    "\n",
    "plt.imshow(frame)"
   ]
  },
  {
   "cell_type": "markdown",
   "metadata": {},
   "source": [
    "### Tracking the red ball"
   ]
  },
  {
   "cell_type": "code",
   "execution_count": null,
   "metadata": {},
   "outputs": [],
   "source": [
    "def redDraw(redMask):\n",
    "    contours, _ = cv2.findContours(redMask, cv2.RETR_EXTERNAL, cv2.CHAIN_APPROX_SIMPLE)  \n",
    "    redBall = contours[0]    \n",
    "    (x,y),_ = cv2.minEnclosingCircle(redBall)\n",
    "    center = (int(x),int(y))    \n",
    "    cv2.circle(frame,center,radiusRed,(255,255,255),2,lineType=cv2.LINE_AA)\n",
    "    cv2.imshow('Red-Track',frame) # display frame in a window\n",
    "    \n",
    "    return (x,y)"
   ]
  },
  {
   "cell_type": "code",
   "execution_count": null,
   "metadata": {},
   "outputs": [],
   "source": [
    "cap = cv2.VideoCapture('P4_juggling.mov')\n",
    "\n",
    "while(True):\n",
    "    ret ,frame = cap.read()\n",
    "    if ret == True:\n",
    "    \n",
    "        redMask = buildRedMask(frame)\n",
    "        (x,y) = redDraw(redMask)\n",
    "#         cv2.imshow('Red-Track',frame) # display frame in a window\n",
    "\n",
    "        k = cv2.waitKey(1) & 0xff\n",
    "        if k == 27:\n",
    "            break\n",
    "    else:\n",
    "        break\n",
    "\n",
    "cap.release() # release input video\n",
    "cv2.destroyAllWindows() # delete output window\n",
    "cv2.waitKey(1);"
   ]
  },
  {
   "cell_type": "markdown",
   "metadata": {},
   "source": [
    "## Blue"
   ]
  },
  {
   "cell_type": "code",
   "execution_count": null,
   "metadata": {},
   "outputs": [],
   "source": [
    "def buildBlueMask(frame):\n",
    "    lowerBlue = np.array([80,95,95])\n",
    "    upperBlue = np.array([179,255,255])\n",
    "\n",
    "    frame = cv2.resize(frame, (640, 360)) \n",
    "    blur = cv2.GaussianBlur(frame ,(0,0),5)\n",
    "    hsvBlue = cv2.cvtColor(blur, cv2.COLOR_BGR2HSV)\n",
    "    maskBlue = cv2.inRange(hsvBlue, lowerBlue, upperBlue)\n",
    "    return maskBlue"
   ]
  },
  {
   "cell_type": "code",
   "execution_count": null,
   "metadata": {},
   "outputs": [],
   "source": [
    "cap = cv2.VideoCapture('P4_juggling.mov')\n",
    "# Take first frame and find corners in it\n",
    "ret, frame = cap.read()\n",
    "\n",
    "maskBlue = buildBlueMask(frame)\n",
    "\n",
    "blank = np.zeros(frame.shape,dtype='uint8')\n",
    "contours, _ = cv2.findContours(maskBlue, cv2.RETR_EXTERNAL, cv2.CHAIN_APPROX_SIMPLE)  \n",
    "cv2.drawContours(blank,contours,-1,(255,0,0),1)\n",
    "\n",
    "plt.figure(figsize=(16,6))\n",
    "plt.subplot(1,2,1)\n",
    "plt.imshow(blank)\n",
    "plt.title('Blue contours')\n",
    "\n",
    "plt.subplot(1,2,2)\n",
    "plt.imshow(maskBlue)\n",
    "plt.title('Blue ball hsv mask')\n",
    "\n",
    "plt.show()"
   ]
  },
  {
   "cell_type": "markdown",
   "metadata": {},
   "source": [
    "### Blue ball overlay"
   ]
  },
  {
   "cell_type": "code",
   "execution_count": null,
   "metadata": {},
   "outputs": [],
   "source": [
    "blueBall = contours[0]\n",
    "(x,y),radiusBlue = cv2.minEnclosingCircle(blueBall)\n",
    "center = (int(x),int(y))\n",
    "radiusBlue = int(radiusBlue+1)\n",
    "cv2.circle(frame,center,radiusBlue,(255,255,255),2, lineType=cv2.LINE_AA)\n",
    "\n",
    "frame = cv2.cvtColor(frame, cv2.COLOR_BGR2RGB)\n",
    "plt.imshow(frame)"
   ]
  },
  {
   "cell_type": "markdown",
   "metadata": {},
   "source": [
    "### Tracking the blue ball"
   ]
  },
  {
   "cell_type": "code",
   "execution_count": null,
   "metadata": {},
   "outputs": [],
   "source": [
    "cap = cv2.VideoCapture('P4_juggling.mov')\n",
    "ret ,frame = cap.read()\n",
    "\n",
    "blueMask = buildBlueMask(frame)\n",
    "contours, _ = cv2.findContours(blueMask, cv2.RETR_EXTERNAL, cv2.CHAIN_APPROX_SIMPLE)  \n",
    "print(len(contours))\n",
    "\n",
    "sizes = []\n",
    "for i in range(len(contours)):\n",
    "    M = cv2.moments(contours[i])\n",
    "    sizes.append(M['m00'])\n",
    "\n",
    "print(np.unique(sizes).astype(np.int64))\n",
    "\n",
    "ballContours = []\n",
    "for i in range(len(contours)):\n",
    "    M = cv2.moments(contours[i])\n",
    "    if 0<(M['m00'])<100:\n",
    "        ballContours.append(contours[i])\n",
    "        \n",
    "print(len(ballContours))"
   ]
  },
  {
   "cell_type": "code",
   "execution_count": null,
   "metadata": {},
   "outputs": [],
   "source": [
    "def blueDraw(blueMask):          \n",
    "    contours, _ = cv2.findContours(blueMask, cv2.RETR_EXTERNAL, cv2.CHAIN_APPROX_SIMPLE)  \n",
    "    ballContours = []\n",
    "    for i in range(len(contours)):\n",
    "        M = cv2.moments(contours[i])\n",
    "        if (M['m00'])>100:\n",
    "            ballContours.append(contours[i])\n",
    "            blueBall = ballContours[0]\n",
    "            (x,y),_ = cv2.minEnclosingCircle(blueBall)\n",
    "            center = (int(x),int(y))    \n",
    "            cv2.circle(frame,center,radiusBlue,(255,255,255),2, lineType=cv2.LINE_AA)\n",
    "            cv2.imshow('Blue',frame) # display frame in a window\n",
    "    return (x,y)            "
   ]
  },
  {
   "cell_type": "code",
   "execution_count": null,
   "metadata": {},
   "outputs": [],
   "source": [
    "cap = cv2.VideoCapture('P4_juggling.mov')\n",
    "\n",
    "while(True):\n",
    "    ret ,frame = cap.read()\n",
    "    if ret == True:\n",
    "        \n",
    "        blueMask = buildBlueMask(frame)\n",
    "#         contours, _ = cv2.findContours(blueMask, cv2.RETR_EXTERNAL, cv2.CHAIN_APPROX_SIMPLE)  \n",
    "#         ballContours = []\n",
    "#         for i in range(len(contours)):\n",
    "#             M = cv2.moments(contours[i])\n",
    "#             if (M['m00'])>100:\n",
    "#                 ballContours.append(contours[i])\n",
    "#                 blueBall = ballContours[0]\n",
    "#                 (x,y),_ = cv2.minEnclosingCircle(blueBall)\n",
    "#                 center = (int(x),int(y))    \n",
    "#                 cv2.circle(frame,center,radiusBlue,(255,255,255),2, lineType=cv2.LINE_AA)\n",
    "        (x,y) = blueDraw(blueMask)\n",
    "\n",
    "#         cv2.imshow('Blue',frame) # display frame in a window\n",
    "\n",
    "        k = cv2.waitKey(1) & 0xff\n",
    "        if k == 27:\n",
    "            break\n",
    "    else:\n",
    "        break\n",
    "\n",
    "cap.release() # release input video\n",
    "cv2.destroyAllWindows() # delete output window\n",
    "cv2.waitKey(1);"
   ]
  },
  {
   "cell_type": "markdown",
   "metadata": {},
   "source": [
    "## green"
   ]
  },
  {
   "cell_type": "code",
   "execution_count": null,
   "metadata": {},
   "outputs": [],
   "source": [
    "def buildGreenMask(frame): \n",
    "    lowerGreen = np.array([42,30,35])\n",
    "    upperGreen = np.array([70,255,255])\n",
    "    frame = cv2.resize(frame, (640, 360)) \n",
    "#     blur = cv2.GaussianBlur(frame ,(0,0),3)\n",
    "    blur = cv2.GaussianBlur(frame ,(0,0),1)\n",
    "    hsvGreen = cv2.cvtColor(blur, cv2.COLOR_BGR2HSV)\n",
    "    maskGreen = cv2.inRange(hsvGreen, lowerGreen, upperGreen)\n",
    "    return maskGreen"
   ]
  },
  {
   "cell_type": "code",
   "execution_count": null,
   "metadata": {},
   "outputs": [],
   "source": [
    "cap = cv2.VideoCapture('P4_juggling.mov')\n",
    "# Take first frame and find corners in it\n",
    "ret, frame = cap.read()\n",
    "\n",
    "maskGreen = buildGreenMask(frame) \n",
    "\n",
    "blank = np.zeros(frame.shape,dtype='uint8')\n",
    "contours, _ = cv2.findContours(maskGreen, cv2.RETR_EXTERNAL, cv2.CHAIN_APPROX_SIMPLE)  \n",
    "cv2.drawContours(blank,contours,-1,(255,0,0),1)\n",
    "\n",
    "plt.figure(figsize=(16,6))\n",
    "plt.subplot(1,2,1)\n",
    "plt.imshow(blank)\n",
    "plt.title('Green contours')\n",
    "\n",
    "plt.subplot(1,2,2)\n",
    "plt.imshow(maskGreen)\n",
    "plt.title('Green ball hsv mask')\n",
    "\n",
    "plt.show()"
   ]
  },
  {
   "cell_type": "markdown",
   "metadata": {},
   "source": [
    "### Green ball overlay"
   ]
  },
  {
   "cell_type": "code",
   "execution_count": null,
   "metadata": {},
   "outputs": [],
   "source": [
    "greenBall = contours[0]\n",
    "(x,y),radiusGreen = cv2.minEnclosingCircle(greenBall)\n",
    "center = (int(x),int(y))\n",
    "radiusGreen = int(radiusGreen)\n",
    "cv2.circle(frame,center,radiusGreen,(255,255,255),2, lineType=cv2.LINE_AA)\n",
    "\n",
    "frame = cv2.cvtColor(frame, cv2.COLOR_BGR2RGB)\n",
    "plt.imshow(frame)"
   ]
  },
  {
   "cell_type": "markdown",
   "metadata": {},
   "source": [
    "### Tracking the green ball"
   ]
  },
  {
   "cell_type": "code",
   "execution_count": null,
   "metadata": {},
   "outputs": [],
   "source": [
    "cap = cv2.VideoCapture('P4_juggling.mov')\n",
    "ret ,frame = cap.read()\n",
    "\n",
    "mask = buildGreenMask(frame)\n",
    "contours, _ = cv2.findContours(mask, cv2.RETR_EXTERNAL, cv2.CHAIN_APPROX_SIMPLE)  \n",
    "print(len(contours))\n",
    "\n",
    "sizes = []\n",
    "for i in range(len(contours)):\n",
    "    M = cv2.moments(contours[i])\n",
    "    sizes.append(M['m00'])\n",
    "\n",
    "print(np.unique(sizes).astype(np.int64))"
   ]
  },
  {
   "cell_type": "code",
   "execution_count": null,
   "metadata": {},
   "outputs": [],
   "source": [
    "def greenDraw(greenMask):\n",
    "    contours, _ = cv2.findContours(greenMask, cv2.RETR_EXTERNAL, cv2.CHAIN_APPROX_SIMPLE)  \n",
    "    ballContours = []\n",
    "    for i in range(len(contours)):\n",
    "        M = cv2.moments(contours[i])\n",
    "        if (M['m00'])>100:\n",
    "            ballContours.append(contours[i])\n",
    "            greenBall = ballContours[0]\n",
    "            (x,y),_ = cv2.minEnclosingCircle(greenBall)\n",
    "            center = (int(x),int(y))    \n",
    "            cv2.circle(frame,center,radiusGreen,(255,255,255),2,lineType=cv2.LINE_AA)\n",
    "            cv2.imshow('Green-Track',frame) # display frame in a window       \n",
    "    return (x,y)"
   ]
  },
  {
   "cell_type": "code",
   "execution_count": null,
   "metadata": {},
   "outputs": [],
   "source": [
    "cap = cv2.VideoCapture('P4_juggling.mov')\n",
    "\n",
    "while(True):\n",
    "    ret ,frame = cap.read()\n",
    "    if ret == True:\n",
    "        \n",
    "        greenMask = buildGreenMask(frame)\n",
    "        \n",
    "#         contours, _ = cv2.findContours(mask, cv2.RETR_EXTERNAL, cv2.CHAIN_APPROX_SIMPLE)  \n",
    "#         ballContours = []\n",
    "#         for i in range(len(contours)):\n",
    "#             M = cv2.moments(contours[i])\n",
    "#             if (M['m00'])>100:\n",
    "#                 ballContours.append(contours[i])\n",
    "#                 greenBall = ballContours[0]\n",
    "#                 (x,y),_ = cv2.minEnclosingCircle(greenBall)\n",
    "#                 center = (int(x),int(y))    \n",
    "#                 cv2.circle(frame,center,radiusGreen,(255,255,255),2, lineType=cv2.LINE_AA)\n",
    "#                 cv2.imshow('Green-Track',frame) # display frame in a window\n",
    "\n",
    "        (x,y) = greenDraw(greenMask)\n",
    "\n",
    "        k = cv2.waitKey(1) & 0xff\n",
    "        if k == 27:\n",
    "            break\n",
    "    else:\n",
    "        break\n",
    "\n",
    "cap.release() # release input video\n",
    "cv2.destroyAllWindows() # delete output window\n",
    "cv2.waitKey(1)"
   ]
  },
  {
   "cell_type": "markdown",
   "metadata": {},
   "source": [
    "# Red & Blue & Green - Tracking"
   ]
  },
  {
   "cell_type": "code",
   "execution_count": null,
   "metadata": {},
   "outputs": [],
   "source": [
    "def build_mask(frame):\n",
    "    redMask = buildRedMask(frame)\n",
    "    blueMask = buildBlueMask(frame)\n",
    "    greenMask = buildGreenMask(frame)\n",
    "    return redMask, blueMask, greenMask"
   ]
  },
  {
   "cell_type": "code",
   "execution_count": null,
   "metadata": {},
   "outputs": [],
   "source": [
    "def draw_overlay(redMask, blueMask, greenMask):\n",
    "    (x_red,y_red) = redDraw(redMask) \n",
    "#     (x_blue,y_blue) = blueDraw(blueMask)\n",
    "    (x_green,y_green) = greenDraw(greenMask)\n",
    "    \n",
    "    return (x_red,y_red), (x_green,y_green)    \n",
    "#     return (x_red,y_red), (x_blue,y_blue), (x_green,y_green)"
   ]
  },
  {
   "cell_type": "markdown",
   "metadata": {},
   "source": [
    "## Overlay trajectories"
   ]
  },
  {
   "cell_type": "code",
   "execution_count": null,
   "metadata": {},
   "outputs": [],
   "source": [
    "cap = cv2.VideoCapture('P4_juggling.mov')\n",
    "\n",
    "# Take first frame and find corners in it\n",
    "ret, frame = cap.read()\n",
    "if ret == True: \n",
    "    redMask, blueMask, greenMask = build_mask(frame)\n",
    "    (x_red,y_red), (x_green,y_green) = draw_overlay(redMask, blueMask, greenMask)\n",
    "#     (x_red,y_red), (x_blue,y_blue), (x_green,y_green) = draw_overlay(redMask, blueMask, greenMask)\n",
    "\n",
    "canvas = np.zeros_like(frame)\n",
    "canvas = np.uint8(canvas*0.95) # fade out canvas  \n",
    "\n",
    "while(True):\n",
    "    ret ,frame = cap.read()\n",
    "    if ret == True: \n",
    "        redMask, blueMask, greenMask = build_mask(frame)\n",
    "\n",
    "        (old_X_red,old_Y_red) = (x_red,y_red)\n",
    "#         (old_X_blue,old_Y_blue) = (x_blue,y_blue)\n",
    "        (old_X_green,old_Y_green) = (x_green,y_green)\n",
    "        \n",
    "        (x_red,y_red), (x_green,y_green) = draw_overlay(redMask, blueMask, greenMask)\n",
    "#         (x_red,y_red), (x_blue,y_blue), (x_green,y_green) = draw_overlay(redMask, blueMask, greenMask)\n",
    "        \n",
    "        line_red = (0,0,255)\n",
    "        line_blue = (255,0,0)\n",
    "        line_green = (0,255,0)\n",
    "        \n",
    "        f1 = cv2.line(canvas,(int(old_X_red),int(old_Y_red)),(int(x_red),int(y_red)),line_red,3)\n",
    "#         f2 = cv2.line(canvas,(int(old_X_blue),int(old_Y_blue)),(int(x_blue),int(y_blue)),line_blue,3)\n",
    "        f3 = cv2.line(canvas,(int(old_X_green),int(old_Y_green)),(int(x_green),int(y_green)),line_green,3)\n",
    "\n",
    "        frame = cv2.add(f1, frame)\n",
    "#         frame = cv2.add(f2, frame)\n",
    "        frame = cv2.add(f3, frame)\n",
    "        \n",
    "        cv2.imshow('overlay trajectories',frame)\n",
    "        cv2.imshow('canvas', canvas)\n",
    "        \n",
    "        k = cv2.waitKey(1) & 0xff\n",
    "        if k == 27:\n",
    "            break\n",
    "    else:\n",
    "        break\n",
    "\n",
    "cap.release() # release input video\n",
    "cv2.destroyAllWindows() # delete output window\n",
    "cv2.waitKey(1)"
   ]
  },
  {
   "cell_type": "markdown",
   "metadata": {},
   "source": [
    "## Velocity"
   ]
  },
  {
   "cell_type": "code",
   "execution_count": null,
   "metadata": {},
   "outputs": [],
   "source": [
    "def calcDist(x1, y1, x2, y2):\n",
    "    xHold = x1 - x2\n",
    "    yHold = y1 - y2\n",
    "    xSquare = xHold ** 2\n",
    "    ySquare = yHold ** 2\n",
    "    return (xSquare + ySquare) ** 0.5"
   ]
  },
  {
   "cell_type": "code",
   "execution_count": null,
   "metadata": {},
   "outputs": [],
   "source": [
    "def putVelocity(img, text, org):\n",
    "    rect_color = (240,240,240)\n",
    "    font = cv2.FONT_HERSHEY_SIMPLEX\n",
    "    font_color = (10,10,10)\n",
    "    font_size = 0.5\n",
    "    thickness = cv2.FILLED\n",
    "    margin = 3\n",
    "\n",
    "    text_size = cv2.getTextSize(text, font, font_size, thickness)\n",
    "    end_x = org[0] + text_size[0][0] + margin\n",
    "    end_y = org[1] - text_size[0][1] - margin\n",
    "\n",
    "    cv2.rectangle(img, org, (end_x, end_y), rect_color, thickness)\n",
    "    cv2.putText(img, text, org, font, font_size, font_color, 1, cv2.LINE_AA)"
   ]
  },
  {
   "cell_type": "code",
   "execution_count": null,
   "metadata": {},
   "outputs": [],
   "source": [
    "cap = cv2.VideoCapture('P4_juggling.mov')\n",
    "\n",
    "fps = (cap.get(cv2.CAP_PROP_FPS) / 100)\n",
    "\n",
    "velocity_red_arr = []\n",
    "velocity_blue_arr = []\n",
    "velocity_green_arr = []\n",
    "\n",
    "# Take first frame and find corners in it\n",
    "ret, frame = cap.read()\n",
    "if ret == True: \n",
    "    redMask, blueMask, greenMask = build_mask(frame)\n",
    "    (x_red,y_red), (x_green,y_green) = draw_overlay(redMask, blueMask, greenMask)\n",
    "#     (x_red,y_red), (x_blue,y_blue), (x_green,y_green) = draw_overlay(redMask, blueMask, greenMask)\n",
    "\n",
    "while(True):\n",
    "    ret ,frame = cap.read()\n",
    "    if ret == True: \n",
    "        redMask, blueMask, greenMask = build_mask(frame)\n",
    "\n",
    "        (old_X_red,old_Y_red) = (x_red,y_red)\n",
    "#         (old_X_blue,old_Y_blue) = (x_blue,y_blue)\n",
    "        (old_X_green,old_Y_green) = (x_green,y_green)\n",
    "        \n",
    "        (x_red,y_red), (x_green,y_green) = draw_overlay(redMask, blueMask, greenMask)\n",
    "#         (x_red,y_red), (x_blue,y_blue), (x_green,y_green) = draw_overlay(redMask, blueMask, greenMask)\n",
    "        \n",
    "        VelocityRed = '%.2f' % (calcDist(old_X_red,old_Y_red,x_red,y_red) / fps)\n",
    "#         VelocityBlue = '%.2f' % (calcDist(old_X_blue,old_Y_blue,x_blue,y_blue) / fps)\n",
    "        VelocityGreen = '%.2f' % (calcDist(old_X_green,old_Y_green,x_green,y_green) / fps)\n",
    "\n",
    "        velocity_red_arr.append(VelocityRed)\n",
    "#         velocity_blue_arr.append(VelocityBlue)\n",
    "        velocity_green_arr.append(VelocityGreen)\n",
    "        \n",
    "        putVelocity(frame, VelocityRed,(int(x_red+15),int(y_red+5)))\n",
    "#         putVelocity(frame, VelocityBlue,(int(x_blue+15),int(y_blue+5)))\n",
    "        putVelocity(frame, VelocityGreen,(int(x_green+15),int(y_green+5)))\n",
    "\n",
    "        cv2.imshow('Track-all',frame) # display frame in a window\n",
    "\n",
    "        k = cv2.waitKey(1) & 0xff\n",
    "        if k == 27:\n",
    "            break\n",
    "    else:\n",
    "        break\n",
    "\n",
    "cap.release() # release input video\n",
    "cv2.destroyAllWindows() # delete output window\n",
    "cv2.waitKey(1)"
   ]
  },
  {
   "cell_type": "markdown",
   "metadata": {},
   "source": [
    "### Velocity of each ball, as a function of time"
   ]
  },
  {
   "cell_type": "code",
   "execution_count": null,
   "metadata": {},
   "outputs": [],
   "source": [
    "v_red = []\n",
    "for i in velocity_red_arr:\n",
    "    v_red.append(float(i))\n",
    "\n",
    "plt.figure(figsize=(20,4))\n",
    "plt.plot(v_red,'.-');\n",
    "plt.title(\"Velocity of red ball\")\n",
    "plt.ylabel(\"Velocity\")\n",
    "plt.xlabel(\"Time\")\n",
    "plt.grid()\n",
    "plt.show()"
   ]
  },
  {
   "cell_type": "code",
   "execution_count": null,
   "metadata": {},
   "outputs": [],
   "source": [
    "v_blue = []\n",
    "for i in velocity_blue_arr:\n",
    "    v_blue.append(float(i))\n",
    "\n",
    "plt.figure(figsize=(20,4))\n",
    "plt.plot(v_blue,'.-');\n",
    "plt.title(\"Velocity of blue ball\")\n",
    "plt.ylabel(\"Velocity\")\n",
    "plt.xlabel(\"Time\")\n",
    "plt.grid()\n",
    "plt.show()"
   ]
  },
  {
   "cell_type": "code",
   "execution_count": null,
   "metadata": {},
   "outputs": [],
   "source": [
    "v_green = []\n",
    "for i in velocity_green_arr:\n",
    "    v_green.append(float(i))\n",
    "\n",
    "plt.figure(figsize=(20,4))\n",
    "plt.plot(v_green,'.-');\n",
    "plt.title(\"Velocity of blue ball\")\n",
    "plt.ylabel(\"Velocity\")\n",
    "plt.xlabel(\"Time\")\n",
    "plt.grid()\n",
    "plt.show()"
   ]
  },
  {
   "cell_type": "code",
   "execution_count": null,
   "metadata": {},
   "outputs": [],
   "source": [
    "plt.figure(figsize=(20,4))\n",
    "\n",
    "plt.plot(v_blue,'.-',label = \"Blue Ball\");\n",
    "plt.plot(v_red,'.-',label = \"Red Ball\");\n",
    "plt.plot(v_green,'.-',label = \"Green Ball\");\n",
    "  \n",
    "plt.ylabel('Velocity') \n",
    "plt.xlabel('time') \n",
    "plt.title('Velocity of each ball, as a function of time') \n",
    "plt.legend() \n",
    "plt.show() "
   ]
  },
  {
   "cell_type": "markdown",
   "metadata": {},
   "source": [
    "## End is here"
   ]
  }
 ],
 "metadata": {
  "kernelspec": {
   "display_name": "Python 3",
   "language": "python",
   "name": "python3"
  },
  "language_info": {
   "codemirror_mode": {
    "name": "ipython",
    "version": 3
   },
   "file_extension": ".py",
   "mimetype": "text/x-python",
   "name": "python",
   "nbconvert_exporter": "python",
   "pygments_lexer": "ipython3",
   "version": "3.8.6"
  }
 },
 "nbformat": 4,
 "nbformat_minor": 4
}
